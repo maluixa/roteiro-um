{
 "cells": [
  {
   "cell_type": "code",
   "execution_count": 9,
   "id": "6b4278d8-3ff8-47ca-ae2e-6b619137398c",
   "metadata": {},
   "outputs": [],
   "source": [
    "import numpy as np\n",
    "n= 2 #quantidade de pontos que usei para a interpolação\n",
    "X= np.array ([45000, 62000]) #Gasto\n",
    "Y= np.array ([56000, 78000]) #Receita \n",
    "G= 55000"
   ]
  },
  {
   "cell_type": "code",
   "execution_count": 10,
   "id": "7727aa01-9b8f-4e92-bd39-a77688f2668c",
   "metadata": {},
   "outputs": [
    {
     "name": "stdout",
     "output_type": "stream",
     "text": [
      "Receita estimada para gasto de R$ 55.000,00: 68941.18\n"
     ]
    }
   ],
   "source": [
    "R = Y[0] + ((G - X[0]) / (X[1] - X[0])) * (Y[1] - Y[0])\n",
    "print(\"Receita estimada para gasto de R$ 55.000,00:\", round(R, 2)) #round para duas casas decimais"
   ]
  },
  {
   "cell_type": "code",
   "execution_count": null,
   "id": "fe0f4ae4-ba13-4a72-8490-977b1dcd2d09",
   "metadata": {},
   "outputs": [],
   "source": []
  }
 ],
 "metadata": {
  "kernelspec": {
   "display_name": "Python [conda env:base] *",
   "language": "python",
   "name": "conda-base-py"
  },
  "language_info": {
   "codemirror_mode": {
    "name": "ipython",
    "version": 3
   },
   "file_extension": ".py",
   "mimetype": "text/x-python",
   "name": "python",
   "nbconvert_exporter": "python",
   "pygments_lexer": "ipython3",
   "version": "3.12.7"
  }
 },
 "nbformat": 4,
 "nbformat_minor": 5
}
