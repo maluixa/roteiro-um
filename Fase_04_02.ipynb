{
 "cells": [
  {
   "cell_type": "code",
   "execution_count": 13,
   "id": "90992efa-50cf-47dc-9e75-dc2a5a01b828",
   "metadata": {},
   "outputs": [
    {
     "name": "stdout",
     "output_type": "stream",
     "text": [
      "O valor da Pressão para uma Temperatura de R$ 300K é: 2331.75\n"
     ]
    }
   ],
   "source": [
    "import numpy as np\n",
    "n= 4\n",
    "x= np.array ([283, 293, 303, 313]) #Temperatura\n",
    "y= np.array ([500, 1000, 3000, 5000]) #Pressão\n",
    "\n",
    "mT= 300\n",
    "xp = mT\n",
    "yp = 0\n",
    "\n",
    "for k in range(n):\n",
    "    p = 1 \n",
    "    for j in range(n):\n",
    "        if k != j: \n",
    "            p = p * (xp - x[j])/(x[k] - x[j])\n",
    "    yp = yp + p * y[k]\n",
    "print(f\"O valor da Pressão para uma Temperatura de R$ 300K é: {round(yp, 2)}\")"
   ]
  }
 ],
 "metadata": {
  "kernelspec": {
   "display_name": "Python [conda env:base] *",
   "language": "python",
   "name": "conda-base-py"
  },
  "language_info": {
   "codemirror_mode": {
    "name": "ipython",
    "version": 3
   },
   "file_extension": ".py",
   "mimetype": "text/x-python",
   "name": "python",
   "nbconvert_exporter": "python",
   "pygments_lexer": "ipython3",
   "version": "3.12.7"
  }
 },
 "nbformat": 4,
 "nbformat_minor": 5
}
