{
 "cells": [
  {
   "cell_type": "code",
   "execution_count": 5,
   "id": "cf1f7cbb-0221-485a-a858-6b0a1bb6006b",
   "metadata": {},
   "outputs": [
    {
     "name": "stdout",
     "output_type": "stream",
     "text": [
      "51\n"
     ]
    }
   ],
   "source": [
    "Lista_a = [1, 4, 7, 10, 13, 16]\n",
    "soma_A = 0\n",
    "\n",
    "for i in Lista_a:\n",
    "    soma_A += i\n",
    "print(soma_A)\n"
   ]
  },
  {
   "cell_type": "code",
   "execution_count": 6,
   "id": "24dc985e-a016-4005-a78a-fd610f678ca1",
   "metadata": {},
   "outputs": [
    {
     "name": "stdout",
     "output_type": "stream",
     "text": [
      "126\n"
     ]
    }
   ],
   "source": [
    "Lista_b = [2, 4, 8, 16, 32, 64]\n",
    "soma_B = 0\n",
    "i = 0\n",
    "m = len(Lista_b)\n",
    "\n",
    "while i < m:\n",
    "    soma_B += Lista_b[i]\n",
    "    i += 1\n",
    "\n",
    "print(soma_B)\n"
   ]
  }
 ],
 "metadata": {
  "kernelspec": {
   "display_name": "Python [conda env:base] *",
   "language": "python",
   "name": "conda-base-py"
  },
  "language_info": {
   "codemirror_mode": {
    "name": "ipython",
    "version": 3
   },
   "file_extension": ".py",
   "mimetype": "text/x-python",
   "name": "python",
   "nbconvert_exporter": "python",
   "pygments_lexer": "ipython3",
   "version": "3.12.7"
  }
 },
 "nbformat": 4,
 "nbformat_minor": 5
}
