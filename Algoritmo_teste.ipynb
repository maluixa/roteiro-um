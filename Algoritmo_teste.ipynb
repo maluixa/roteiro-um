{
 "cells": [
  {
   "cell_type": "markdown",
   "id": "2afcf4c7-9513-4868-b29c-eb3b47fcadcf",
   "metadata": {},
   "source": [
    "**Texto**"
   ]
  },
  {
   "cell_type": "code",
   "execution_count": 6,
   "id": "d85f678d-c584-4515-b99e-04b324aeb26d",
   "metadata": {},
   "outputs": [
    {
     "data": {
      "text/plain": [
       "'Meu primeiro comando'"
      ]
     },
     "execution_count": 6,
     "metadata": {},
     "output_type": "execute_result"
    }
   ],
   "source": [
    "s=\"Meu primeiro comando\"\n",
    "s"
   ]
  },
  {
   "cell_type": "code",
   "execution_count": 7,
   "id": "ac96e7d7-fbf3-4173-bd66-23f6f9eeb6b3",
   "metadata": {},
   "outputs": [
    {
     "data": {
      "text/plain": [
       "5"
      ]
     },
     "execution_count": 7,
     "metadata": {},
     "output_type": "execute_result"
    }
   ],
   "source": [
    "A=2\n",
    "B=3\n",
    "C=A+B\n",
    "C"
   ]
  }
 ],
 "metadata": {
  "kernelspec": {
   "display_name": "Python [conda env:base] *",
   "language": "python",
   "name": "conda-base-py"
  },
  "language_info": {
   "codemirror_mode": {
    "name": "ipython",
    "version": 3
   },
   "file_extension": ".py",
   "mimetype": "text/x-python",
   "name": "python",
   "nbconvert_exporter": "python",
   "pygments_lexer": "ipython3",
   "version": "3.12.7"
  }
 },
 "nbformat": 4,
 "nbformat_minor": 5
}
