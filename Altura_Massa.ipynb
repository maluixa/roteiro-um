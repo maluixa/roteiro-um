{
 "cells": [
  {
   "cell_type": "code",
   "execution_count": 1,
   "id": "b2269d08-348b-4a94-b265-e96dc65454a5",
   "metadata": {},
   "outputs": [
    {
     "name": "stdout",
     "output_type": "stream",
     "text": [
      "Carla é maior que Fernanda\n"
     ]
    }
   ],
   "source": [
    "A_Carla = 1.85\n",
    "A_Fernanda = 1.65\n",
    "M_Carla = 80\n",
    "M_Fernanda = 112\n",
    "\n",
    "if A_Carla > A_Fernanda:\n",
    "    print (\"Carla é maior que Fernanda\")\n",
    "elif A_Carla < A_Fernanda:\n",
    "    print(\"Carla é menor que Fernanda\")\n",
    "else: \n",
    "    print(\"Carla tem a mesma altura que Fernanda\")"
   ]
  },
  {
   "cell_type": "code",
   "execution_count": 2,
   "id": "180b2f86-78dd-4a94-b39e-ae4667c730e0",
   "metadata": {},
   "outputs": [
    {
     "name": "stdout",
     "output_type": "stream",
     "text": [
      "Peso normal\n"
     ]
    }
   ],
   "source": [
    "A_Carla = 1.85\n",
    "M_Carla = 80\n",
    "\n",
    "IMC_Carla = M_Carla / (A_Carla ** 2)\n",
    "Nome = IMC_Carla\n",
    "\n",
    "if IMC_Carla < 17:\n",
    "    print(\"Está muito abaixo do peso\")\n",
    "elif IMC_Carla >= 17 and IMC_Carla < 18.49:\n",
    "    print(\"Está abaixo do peso\")\n",
    "elif IMC_Carla >= 18.5 and IMC_Carla < 24.99:\n",
    "    print(\"Peso normal\")\n",
    "elif IMC_Carla >= 25 and IMC_Carla < 29.99:\n",
    "    print(\"Está acima do peso\")\n",
    "elif IMC_Carla >= 30 and IMC_Carla < 34.99:\n",
    "    print(\"Está com Obesidade I\")\n",
    "elif IMC_Carla >= 35 and IMC_Carla < 39.99:\n",
    "    print(\"Está com Obesidade II (severa)\")\n",
    "else: \n",
    "    print(\"Está com Obesidade III (mórbida)\")"
   ]
  },
  {
   "cell_type": "code",
   "execution_count": 3,
   "id": "ce26f903-fa0f-47eb-95d0-bebcac7850d8",
   "metadata": {},
   "outputs": [
    {
     "name": "stdout",
     "output_type": "stream",
     "text": [
      "Está com Obesidade III (mórbida)\n"
     ]
    }
   ],
   "source": [
    "A_Fernanda = 1.65\n",
    "M_Fernanda = 112\n",
    "\n",
    "IMC_Fernanda = M_Fernanda / (A_Fernanda ** 2)\n",
    "Nome = IMC_Fernanda\n",
    "\n",
    "if IMC_Fernanda < 17:\n",
    "    print(\"Está muito abaixo do peso\")\n",
    "elif IMC_Fernanda >= 17 and IMC_Fernanda < 18.49:\n",
    "    print(\"Está abaixo do peso\")\n",
    "elif IMC_Fernanda >= 18.5 and IMC_Fernanda < 24.99:\n",
    "    print(\"Peso normal\")\n",
    "elif IMC_Fernanda >= 25 and IMC_Fernanda < 29.99:\n",
    "    print(\"Está acima do peso\")\n",
    "elif IMC_Fernanda >= 30 and IMC_Fernanda < 34.99:\n",
    "    print(\"Está com Obesidade I\")\n",
    "elif IMC_Fernanda >= 35 and IMC_Fernanda < 39.99:\n",
    "    print(\"Está com Obesidade II (severa)\")\n",
    "else: \n",
    "    print(\"Está com Obesidade III (mórbida)\")"
   ]
  }
 ],
 "metadata": {
  "kernelspec": {
   "display_name": "Python [conda env:base] *",
   "language": "python",
   "name": "conda-base-py"
  },
  "language_info": {
   "codemirror_mode": {
    "name": "ipython",
    "version": 3
   },
   "file_extension": ".py",
   "mimetype": "text/x-python",
   "name": "python",
   "nbconvert_exporter": "python",
   "pygments_lexer": "ipython3",
   "version": "3.12.7"
  }
 },
 "nbformat": 4,
 "nbformat_minor": 5
}
