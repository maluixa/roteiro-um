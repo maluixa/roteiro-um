{
 "cells": [
  {
   "cell_type": "code",
   "execution_count": 767,
   "id": "65403e8a-4334-43b1-bced-6123bacd8692",
   "metadata": {},
   "outputs": [
    {
     "data": {
      "text/html": [
       "<div>\n",
       "<style scoped>\n",
       "    .dataframe tbody tr th:only-of-type {\n",
       "        vertical-align: middle;\n",
       "    }\n",
       "\n",
       "    .dataframe tbody tr th {\n",
       "        vertical-align: top;\n",
       "    }\n",
       "\n",
       "    .dataframe thead th {\n",
       "        text-align: right;\n",
       "    }\n",
       "</style>\n",
       "<table border=\"1\" class=\"dataframe\">\n",
       "  <thead>\n",
       "    <tr style=\"text-align: right;\">\n",
       "      <th></th>\n",
       "      <th>Jogadoras</th>\n",
       "      <th>Idade</th>\n",
       "      <th>Altura</th>\n",
       "      <th>Peso</th>\n",
       "      <th>Pontos</th>\n",
       "    </tr>\n",
       "  </thead>\n",
       "  <tbody>\n",
       "    <tr>\n",
       "      <th>0</th>\n",
       "      <td>Ana Carolina</td>\n",
       "      <td>31</td>\n",
       "      <td>1,82</td>\n",
       "      <td>72</td>\n",
       "      <td>120</td>\n",
       "    </tr>\n",
       "    <tr>\n",
       "      <th>1</th>\n",
       "      <td>Rosamaria</td>\n",
       "      <td>28</td>\n",
       "      <td>1,85</td>\n",
       "      <td>75</td>\n",
       "      <td>34</td>\n",
       "    </tr>\n",
       "    <tr>\n",
       "      <th>2</th>\n",
       "      <td>Robert</td>\n",
       "      <td>32</td>\n",
       "      <td>1,85</td>\n",
       "      <td>68</td>\n",
       "      <td>3</td>\n",
       "    </tr>\n",
       "    <tr>\n",
       "      <th>3</th>\n",
       "      <td>Lorenne</td>\n",
       "      <td>26</td>\n",
       "      <td>1,85</td>\n",
       "      <td>74</td>\n",
       "      <td>28</td>\n",
       "    </tr>\n",
       "    <tr>\n",
       "      <th>4</th>\n",
       "      <td>Nyeme</td>\n",
       "      <td>24</td>\n",
       "      <td>1,75</td>\n",
       "      <td>72</td>\n",
       "      <td>0</td>\n",
       "    </tr>\n",
       "  </tbody>\n",
       "</table>\n",
       "</div>"
      ],
      "text/plain": [
       "      Jogadoras  Idade Altura  Peso  Pontos\n",
       "0  Ana Carolina     31   1,82    72     120\n",
       "1     Rosamaria     28   1,85    75      34\n",
       "2        Robert     32   1,85    68       3\n",
       "3       Lorenne     26   1,85    74      28\n",
       "4         Nyeme     24   1,75    72       0"
      ]
     },
     "execution_count": 767,
     "metadata": {},
     "output_type": "execute_result"
    }
   ],
   "source": [
    "import pandas as pd\n",
    "df = pd.read_csv('D:\\\\OneDrive\\\\Documentos\\\\CIMATEC\\\\Pasta1.csv', sep = ';') #nomeei a pasta diferente do que o edital pediu, espero que não tenha problema\n",
    "df.columns = df.columns.str.strip()\n",
    "df.head()"
   ]
  },
  {
   "cell_type": "code",
   "execution_count": 768,
   "id": "9a22465e-7610-4e40-9895-a73c958ceda1",
   "metadata": {},
   "outputs": [
    {
     "name": "stdout",
     "output_type": "stream",
     "text": [
      "0     31\n",
      "1     28\n",
      "2     32\n",
      "3     26\n",
      "4     24\n",
      "5     41\n",
      "6     33\n",
      "7     23\n",
      "8     28\n",
      "9     22\n",
      "10    34\n",
      "11    25\n",
      "12    19\n",
      "13    22\n",
      "Name: Idade, dtype: int64\n"
     ]
    }
   ],
   "source": [
    "print(df['Idade'])"
   ]
  },
  {
   "cell_type": "code",
   "execution_count": 769,
   "id": "b97a8f9b-732b-48a7-aef5-bcfb4b877d85",
   "metadata": {},
   "outputs": [
    {
     "data": {
      "text/html": [
       "<div>\n",
       "<style scoped>\n",
       "    .dataframe tbody tr th:only-of-type {\n",
       "        vertical-align: middle;\n",
       "    }\n",
       "\n",
       "    .dataframe tbody tr th {\n",
       "        vertical-align: top;\n",
       "    }\n",
       "\n",
       "    .dataframe thead th {\n",
       "        text-align: right;\n",
       "    }\n",
       "</style>\n",
       "<table border=\"1\" class=\"dataframe\">\n",
       "  <thead>\n",
       "    <tr style=\"text-align: right;\">\n",
       "      <th></th>\n",
       "      <th>Jogadoras</th>\n",
       "      <th>Idade</th>\n",
       "    </tr>\n",
       "  </thead>\n",
       "  <tbody>\n",
       "    <tr>\n",
       "      <th>0</th>\n",
       "      <td>Ana Carolina</td>\n",
       "      <td>31</td>\n",
       "    </tr>\n",
       "    <tr>\n",
       "      <th>1</th>\n",
       "      <td>Rosamaria</td>\n",
       "      <td>28</td>\n",
       "    </tr>\n",
       "    <tr>\n",
       "      <th>2</th>\n",
       "      <td>Robert</td>\n",
       "      <td>32</td>\n",
       "    </tr>\n",
       "    <tr>\n",
       "      <th>3</th>\n",
       "      <td>Lorenne</td>\n",
       "      <td>26</td>\n",
       "    </tr>\n",
       "    <tr>\n",
       "      <th>4</th>\n",
       "      <td>Nyeme</td>\n",
       "      <td>24</td>\n",
       "    </tr>\n",
       "    <tr>\n",
       "      <th>5</th>\n",
       "      <td>Carol Gattaz</td>\n",
       "      <td>41</td>\n",
       "    </tr>\n",
       "    <tr>\n",
       "      <th>6</th>\n",
       "      <td>Macris</td>\n",
       "      <td>33</td>\n",
       "    </tr>\n",
       "    <tr>\n",
       "      <th>7</th>\n",
       "      <td>Lorena</td>\n",
       "      <td>23</td>\n",
       "    </tr>\n",
       "    <tr>\n",
       "      <th>8</th>\n",
       "      <td>Gabi</td>\n",
       "      <td>28</td>\n",
       "    </tr>\n",
       "    <tr>\n",
       "      <th>9</th>\n",
       "      <td>Taianara</td>\n",
       "      <td>22</td>\n",
       "    </tr>\n",
       "    <tr>\n",
       "      <th>10</th>\n",
       "      <td>Pri Daroit</td>\n",
       "      <td>34</td>\n",
       "    </tr>\n",
       "    <tr>\n",
       "      <th>11</th>\n",
       "      <td>Natinha</td>\n",
       "      <td>25</td>\n",
       "    </tr>\n",
       "    <tr>\n",
       "      <th>12</th>\n",
       "      <td>Julia Kudiess</td>\n",
       "      <td>19</td>\n",
       "    </tr>\n",
       "    <tr>\n",
       "      <th>13</th>\n",
       "      <td>Kisy</td>\n",
       "      <td>22</td>\n",
       "    </tr>\n",
       "  </tbody>\n",
       "</table>\n",
       "</div>"
      ],
      "text/plain": [
       "        Jogadoras  Idade\n",
       "0    Ana Carolina     31\n",
       "1       Rosamaria     28\n",
       "2          Robert     32\n",
       "3         Lorenne     26\n",
       "4           Nyeme     24\n",
       "5    Carol Gattaz     41\n",
       "6          Macris     33\n",
       "7          Lorena     23\n",
       "8            Gabi     28\n",
       "9        Taianara     22\n",
       "10     Pri Daroit     34\n",
       "11        Natinha     25\n",
       "12  Julia Kudiess     19\n",
       "13           Kisy     22"
      ]
     },
     "execution_count": 769,
     "metadata": {},
     "output_type": "execute_result"
    }
   ],
   "source": [
    "df[['Jogadoras', 'Idade']]"
   ]
  },
  {
   "cell_type": "code",
   "execution_count": 770,
   "id": "3a2aae58-1a70-441e-93f8-4c00bb587659",
   "metadata": {},
   "outputs": [
    {
     "name": "stdout",
     "output_type": "stream",
     "text": [
      "388\n"
     ]
    }
   ],
   "source": [
    "idades = [31, 28, 32, 26, 24, 41, 33, 23, 28, 22, 34, 25, 19, 22]\n",
    "soma_id = 0  \n",
    "for i in idades:\n",
    "    soma_id += i\n",
    "print(soma_id)\n",
    "    "
   ]
  },
  {
   "cell_type": "code",
   "execution_count": 771,
   "id": "e3cebb12-ca8f-4c86-aacb-3ded55b34b9f",
   "metadata": {},
   "outputs": [
    {
     "name": "stdout",
     "output_type": "stream",
     "text": [
      "27.71\n"
     ]
    }
   ],
   "source": [
    "soma_id = 388\n",
    "n_jogadoras = 14\n",
    "\n",
    "media_id = soma_id / n_jogadoras\n",
    "print(round(media_id, 2)) #procurei como diminuir as casas, porque tinham ficado 14 casas"
   ]
  },
  {
   "cell_type": "code",
   "execution_count": 772,
   "id": "5bb4317a-ba61-4d0d-aacd-ade6b310f831",
   "metadata": {},
   "outputs": [
    {
     "name": "stdout",
     "output_type": "stream",
     "text": [
      "14\n"
     ]
    }
   ],
   "source": [
    "n = ['Ana Carolina','Rosamaria', 'Roberta', 'Lorenne', 'Nyeme', 'Carol Gattaz', 'Macris', 'Lorena', 'Gabi', 'Tainara', 'Pri Daroit', 'Natinha', 'Julia Kudiess', 'Kisy']\n",
    "print(len(n))"
   ]
  },
  {
   "cell_type": "code",
   "execution_count": 773,
   "id": "acdaa1ea-0482-435d-96c4-bee40bb4f507",
   "metadata": {},
   "outputs": [
    {
     "name": "stdout",
     "output_type": "stream",
     "text": [
      "776\n"
     ]
    }
   ],
   "source": [
    "for i in df['Idade']: #Criando loop\n",
    "    soma_id += i\n",
    "print(soma_id)"
   ]
  },
  {
   "cell_type": "code",
   "execution_count": 774,
   "id": "806fe21b-c7e3-4fd0-80c7-d067b191f57d",
   "metadata": {},
   "outputs": [
    {
     "name": "stdout",
     "output_type": "stream",
     "text": [
      "55.43\n"
     ]
    }
   ],
   "source": [
    "n = len(df['Idade']) #Média de idade das jogadoras\n",
    "\n",
    "media_id = soma_id / n\n",
    "print(round(media_id, 2))"
   ]
  },
  {
   "cell_type": "code",
   "execution_count": 775,
   "id": "ea7c2619-7846-425b-8fb6-162b93de0d57",
   "metadata": {},
   "outputs": [],
   "source": [
    "df['Altura'] = df['Altura'].str.replace(',', '.') #Substituição da pontuação\n",
    "df['Altura'] = pd.to_numeric(df['Altura'], errors='coerce')\n"
   ]
  },
  {
   "cell_type": "code",
   "execution_count": 776,
   "id": "2553205a-7753-4e8b-a87c-0de70fa505ed",
   "metadata": {},
   "outputs": [
    {
     "name": "stdout",
     "output_type": "stream",
     "text": [
      "25.68\n"
     ]
    }
   ],
   "source": [
    "import pandas as pd\n",
    "\n",
    "df['Altura'] = pd.to_numeric(df['Altura'], errors='coerce') #Soma da altura das jogadoras\n",
    "soma_al = 0\n",
    "\n",
    "for i in df['Altura']:\n",
    "    if not pd.isna(i):\n",
    "        soma_al += i #Somando todas as alturas\n",
    "print(round(soma_al, 2))"
   ]
  },
  {
   "cell_type": "code",
   "execution_count": 777,
   "id": "b786c429-9a45-4215-a7ec-3e103da6cb89",
   "metadata": {},
   "outputs": [
    {
     "name": "stdout",
     "output_type": "stream",
     "text": [
      "51.35999999999999\n"
     ]
    }
   ],
   "source": [
    "#Criando loop\n",
    "for i in df['Altura']: \n",
    "        soma_al += i #Equação\n",
    "print(soma_al)"
   ]
  },
  {
   "cell_type": "code",
   "execution_count": 778,
   "id": "6c38bf13-f337-4cbf-a345-f222dcc7b67a",
   "metadata": {},
   "outputs": [
    {
     "name": "stdout",
     "output_type": "stream",
     "text": [
      "3.67\n"
     ]
    }
   ],
   "source": [
    "n = len(df['Altura'])\n",
    "\n",
    "media_al = soma_al / n #Dividindo pelo número de jogadoras \n",
    "print(round(media_al, 2))"
   ]
  },
  {
   "cell_type": "code",
   "execution_count": 779,
   "id": "cddd524b-d77b-4524-b85b-cd3dd18368d0",
   "metadata": {},
   "outputs": [],
   "source": [
    "import numpy as np\n",
    "X= np.array(['Ana Carolina','Rosamaria', 'Roberta', 'Lorenne', 'Nyeme', 'Carol Gattaz', 'Macris', 'Lorena', 'Gabi', 'Tainara', 'Pri Daroit', 'Natinha', 'Julia Kudiess', 'Kisy'])\n",
    "Y= np.array([120, 34, 3, 28, 0, 108, 18, 9, 205, 91, 107, 0, 5, 60])"
   ]
  },
  {
   "cell_type": "code",
   "execution_count": 780,
   "id": "e734b542-3b69-4fab-8045-2195a992fe0e",
   "metadata": {},
   "outputs": [
    {
     "data": {
      "image/png": "[encoded data removed]",
      "text/plain": [
       "<Figure size 640x480 with 1 Axes>"
      ]
     },
     "metadata": {},
     "output_type": "display_data"
    }
   ],
   "source": [
    "import matplotlib.pyplot as plt\n",
    "plt.barh(X,Y, color='red')\n",
    "plt.ylabel('Pontos')\n",
    "plt.xlabel('Jogadoras')\n",
    "plt.title('Pontuação da seleção brasileira de vôlei no campeonato mundial de 2022')\n",
    "plt.show()"
   ]
  }
 ],
 "metadata": {
  "kernelspec": {
   "display_name": "Python [conda env:base] *",
   "language": "python",
   "name": "conda-base-py"
  },
  "language_info": {
   "codemirror_mode": {
    "name": "ipython",
    "version": 3
   },
   "file_extension": ".py",
   "mimetype": "text/x-python",
   "name": "python",
   "nbconvert_exporter": "python",
   "pygments_lexer": "ipython3",
   "version": "3.12.7"
  }
 },
 "nbformat": 4,
 "nbformat_minor": 5
}
